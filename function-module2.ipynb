{
 "cells": [
  {
   "cell_type": "code",
   "execution_count": 22,
   "id": "150c328f",
   "metadata": {
    "scrolled": true
   },
   "outputs": [
    {
     "name": "stdout",
     "output_type": "stream",
     "text": [
      "What you want to do? \n",
      " 1.Add \n",
      " 2.Remove\n",
      "Select option 1 or 2: 1\n",
      "Item name: phone\n",
      "Item cost: 10tr\n",
      "Date: 9/4/23\n",
      "Your expenses:  [{'name': 'phone', 'cost': '10tr', 'date': '9/4/23'}]\n"
     ]
    }
   ],
   "source": [
    "#iMoney:\n",
    "def add_item(myTemplist,item):\n",
    "    myTemplist.append(item)\n",
    "def find_index_item(myTemplist,name_item):\n",
    "    result = -1\n",
    "    length = len(myTemplist)\n",
    "    for i in range(length):\n",
    "        if myTemplist[i]==name_item:\n",
    "            result = i\n",
    "    return result\n",
    "def remove_item(myTemplist,name_item):\n",
    "    if find_index_item(myTemplist,name_item) > -1:\n",
    "        del myTemplist[find_index_item(myTemplist,name_item)]\n",
    "    else:\n",
    "        print(name_item,'is not exist')\n",
    "expenses = []\n",
    "\n",
    "print('What you want to do? \\n 1.Add \\n 2.Remove')\n",
    "option = int(input('Select option 1 or 2: '))\n",
    "name_input = input('Item name: ')\n",
    "\n",
    "if option == 1:\n",
    "    cost_input = input(\"Item cost: \")\n",
    "    date_input = input(\"Date: \")\n",
    "    item = {'name': name_input, 'cost':cost_input, 'date':date_input}\n",
    "    add_item(expenses,item)\n",
    "    print('Your expenses: ', expenses)\n",
    "elif option == 2:\n",
    "    remove_item(expenses, name_input)\n",
    "    print(\"Your expenses: \", expenses)\n",
    "else:\n",
    "    print(\"Invalid input\")"
   ]
  },
  {
   "cell_type": "code",
   "execution_count": 24,
   "id": "ca9cd579",
   "metadata": {},
   "outputs": [
    {
     "name": "stdout",
     "output_type": "stream",
     "text": [
      "16\n"
     ]
    }
   ],
   "source": [
    "#Đếm số ký tự trong chuỗi sử dụng hàm\n",
    "def count_char(text):\n",
    "    c = 0\n",
    "    for i in text:\n",
    "        c+=1\n",
    "    print(c)\n",
    "count_char('kha banh dep zai')"
   ]
  },
  {
   "cell_type": "code",
   "execution_count": 2,
   "id": "48e7edea",
   "metadata": {},
   "outputs": [],
   "source": [
    "#Sắp xếp các số nguyên\n",
    "def Sorted_three_num(num1,num2,num3):\n",
    "    temp = 0\n",
    "    if num2>=num1 and num2>=num3:\n",
    "        temp = num1\n",
    "        num1 = num2\n",
    "        if(temp>=num3):\n",
    "            num2 = temp\n",
    "        else:\n",
    "            num2 = num3\n",
    "            num3 = temp\n",
    "    elif num3>=num1 and num3>=num2:\n",
    "        temp = num1\n",
    "        num1 = num3\n",
    "        if(temp>=num2):\n",
    "            num3 = num2\n",
    "            num2 = temp\n",
    "        else:\n",
    "            num3 = temp\n",
    "    else:\n",
    "        if num3>=num2:\n",
    "            temp = num2\n",
    "            num2 = num3\n",
    "            num3 = temp\n",
    "    print(num3,num2,num1)"
   ]
  },
  {
   "cell_type": "code",
   "execution_count": 3,
   "id": "1b9a9b7c",
   "metadata": {},
   "outputs": [
    {
     "name": "stdout",
     "output_type": "stream",
     "text": [
      "3 6 9\n"
     ]
    }
   ],
   "source": [
    "Sorted_three_num(3,9,6)\n"
   ]
  },
  {
   "cell_type": "code",
   "execution_count": 8,
   "id": "5bbe81a0",
   "metadata": {},
   "outputs": [],
   "source": [
    "#minnum\n",
    "def min_num(numbers):\n",
    "    result = numbers[0]\n",
    "    for i in numbers:\n",
    "        if i <= result:\n",
    "            result = i\n",
    "    print(result)"
   ]
  },
  {
   "cell_type": "code",
   "execution_count": 9,
   "id": "0e98a0c4",
   "metadata": {},
   "outputs": [
    {
     "name": "stdout",
     "output_type": "stream",
     "text": [
      "2\n"
     ]
    }
   ],
   "source": [
    "min_num('5978432659236')"
   ]
  },
  {
   "cell_type": "code",
   "execution_count": null,
   "id": "1187c123",
   "metadata": {},
   "outputs": [],
   "source": []
  }
 ],
 "metadata": {
  "kernelspec": {
   "display_name": "Python 3 (ipykernel)",
   "language": "python",
   "name": "python3"
  },
  "language_info": {
   "codemirror_mode": {
    "name": "ipython",
    "version": 3
   },
   "file_extension": ".py",
   "mimetype": "text/x-python",
   "name": "python",
   "nbconvert_exporter": "python",
   "pygments_lexer": "ipython3",
   "version": "3.9.13"
  }
 },
 "nbformat": 4,
 "nbformat_minor": 5
}
